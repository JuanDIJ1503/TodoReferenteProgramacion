{
 "cells": [
  {
   "cell_type": "markdown",
   "metadata": {},
   "source": [
    "## Velocidad del barco  \n",
    "Muestra los segundos necesarios para llegar de 0 a 60 metros por segundo, dada la aceleración de la nave en metros por segundo."
   ]
  },
  {
   "cell_type": "code",
   "execution_count": 3,
   "metadata": {},
   "outputs": [
    {
     "name": "stdout",
     "output_type": "stream",
     "text": [
      "El tiempo necesario es de:  6.122448979591836\n"
     ]
    }
   ],
   "source": [
    "Velocidad_f = 60\n",
    "Velocidad_i = 0\n",
    "Aceleracion = 9.8\n",
    "\n",
    "tiempo = (Velocidad_f - Velocidad_i) / Aceleracion\n",
    "print(\"El tiempo necesario es de: \",tiempo)"
   ]
  }
 ],
 "metadata": {
  "kernelspec": {
   "display_name": "Python 3",
   "language": "python",
   "name": "python3"
  },
  "language_info": {
   "codemirror_mode": {
    "name": "ipython",
    "version": 3
   },
   "file_extension": ".py",
   "mimetype": "text/x-python",
   "name": "python",
   "nbconvert_exporter": "python",
   "pygments_lexer": "ipython3",
   "version": "3.11.4"
  },
  "orig_nbformat": 4
 },
 "nbformat": 4,
 "nbformat_minor": 2
}
