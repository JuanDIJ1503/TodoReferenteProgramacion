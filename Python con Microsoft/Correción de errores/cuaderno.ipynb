{
 "cells": [
  {
   "cell_type": "code",
   "execution_count": 49,
   "metadata": {},
   "outputs": [
    {
     "data": {
      "application/vnd.jupyter.widget-view+json": {
       "model_id": "09cbf6dfd5d64e0bbae673d248e249e6",
       "version_major": 2,
       "version_minor": 0
      },
      "text/plain": [
       "ToggleButton(value=False, button_style='success', description='Motor de arranque', icon='rocket')"
      ]
     },
     "metadata": {},
     "output_type": "display_data"
    },
    {
     "data": {
      "application/vnd.jupyter.widget-view+json": {
       "model_id": "b4b10ccd80cd448eb9796ea7a95a2d6f",
       "version_major": 2,
       "version_minor": 0
      },
      "text/plain": [
       "Output()"
      ]
     },
     "metadata": {},
     "output_type": "display_data"
    }
   ],
   "source": [
    "from ipywidgets import*\n",
    "\n",
    "boton = ToggleButton(\n",
    "    value=False, \n",
    "    description = 'Motor de arranque',\n",
    "    button_style = 'success',\n",
    "    icon = \"rocket\",\n",
    ")\n",
    "\n",
    "output = Output()\n",
    "\n",
    "display(boton,output)\n",
    "\n",
    "def valor_cambio(cambio):\n",
    "    with output:\n",
    "        if cambio['new'] == True:\n",
    "            print(\"Motor Arrancado\")\n",
    "        else:\n",
    "            print(\"Motor apagado\")\n",
    "\n",
    "boton.observe(valor_cambio,names='value')"
   ]
  },
  {
   "cell_type": "markdown",
   "metadata": {},
   "source": [
    "# Ship's Instruction Manual"
   ]
  }
 ],
 "metadata": {
  "kernelspec": {
   "display_name": "Python 3",
   "language": "python",
   "name": "python3"
  },
  "language_info": {
   "codemirror_mode": {
    "name": "ipython",
    "version": 3
   },
   "file_extension": ".py",
   "mimetype": "text/x-python",
   "name": "python",
   "nbconvert_exporter": "python",
   "pygments_lexer": "ipython3",
   "version": "3.11.4"
  },
  "orig_nbformat": 4
 },
 "nbformat": 4,
 "nbformat_minor": 2
}
